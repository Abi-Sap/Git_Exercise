{
 "cells": [
  {
   "cell_type": "markdown",
   "id": "94d0a2ae-f9eb-45e5-8086-0ababb5d8328",
   "metadata": {},
   "source": [
    "# Question 1 :\r\n",
    "Create a Python function that calculates the factorial of a given number.Instructions: Create a new Python file named factorial.py in your local directory. Write a function to calculate the factorial of a number using recursion or iteration. After writing the code, initialize a Git repository in the directory, add the file, commit the changes, and push it to a new repository on GitHub."
   ]
  },
  {
   "cell_type": "code",
   "execution_count": 1,
   "id": "1fba9904-1767-469c-94ab-eef2b0957b39",
   "metadata": {},
   "outputs": [
    {
     "name": "stdout",
     "output_type": "stream",
     "text": [
      "120\n"
     ]
    }
   ],
   "source": [
    "def factorial(num): \n",
    "    if num == 0:\n",
    "        return 1\n",
    "    else:\n",
    "        return num * factorial(num-1)\n",
    "    \n",
    "\n",
    "print(factorial(5))"
   ]
  },
  {
   "cell_type": "code",
   "execution_count": null,
   "id": "fae7400d-6857-416b-b102-6a8c4c8d7217",
   "metadata": {},
   "outputs": [],
   "source": []
  }
 ],
 "metadata": {
  "kernelspec": {
   "display_name": "Python 3 (ipykernel)",
   "language": "python",
   "name": "python3"
  },
  "language_info": {
   "codemirror_mode": {
    "name": "ipython",
    "version": 3
   },
   "file_extension": ".py",
   "mimetype": "text/x-python",
   "name": "python",
   "nbconvert_exporter": "python",
   "pygments_lexer": "ipython3",
   "version": "3.11.7"
  }
 },
 "nbformat": 4,
 "nbformat_minor": 5
}
