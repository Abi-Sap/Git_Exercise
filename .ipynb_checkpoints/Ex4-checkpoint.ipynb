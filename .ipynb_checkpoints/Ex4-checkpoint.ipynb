{
 "cells": [
  {
   "cell_type": "markdown",
   "metadata": {},
   "source": [
    "# Question 4:\n",
    "Create a Python function that checks if two strings are anagrams of each other.Instructions: Create a new Python file named anagram_check.py. Write a function to check if two strings are anagrams of each other (i.e., contain the same characters but in a different order). After writing the code, initialize a Git repository in the directory, add the file, commit the changes, and push it to a new repository on GitHub."
   ]
  },
  {
   "cell_type": "code",
   "execution_count": 1,
   "metadata": {
    "vscode": {
     "languageId": "plaintext"
    }
   },
   "outputs": [
    {
     "name": "stdout",
     "output_type": "stream",
     "text": [
      "True\n"
     ]
    }
   ],
   "source": [
    "def anagram(tx1, tx2): \n",
    "    tx1 = tx1.replace(' ', '').lower()    \n",
    "    tx2 = tx2.replace(' ', '').lower()\n",
    "    \n",
    "    sorted_tx1 = sorted(tx1)\n",
    "    sorted_tx2 = sorted(tx2)\n",
    "    \n",
    "    return sorted_tx1 == sorted_tx2\n",
    "\n",
    "# Test the function\n",
    "print(anagram('listen', 'silent')) # True"
   ]
  },
  {
   "cell_type": "code",
   "execution_count": null,
   "metadata": {},
   "outputs": [],
   "source": []
  }
 ],
 "metadata": {
  "kernelspec": {
   "display_name": "Python 3 (ipykernel)",
   "language": "python",
   "name": "python3"
  },
  "language_info": {
   "codemirror_mode": {
    "name": "ipython",
    "version": 3
   },
   "file_extension": ".py",
   "mimetype": "text/x-python",
   "name": "python",
   "nbconvert_exporter": "python",
   "pygments_lexer": "ipython3",
   "version": "3.11.7"
  }
 },
 "nbformat": 4,
 "nbformat_minor": 4
}
