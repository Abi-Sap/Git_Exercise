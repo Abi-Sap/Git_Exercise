{
 "cells": [
  {
   "cell_type": "markdown",
   "metadata": {},
   "source": [
    "# Question 6:\n",
    "Create a new branch named \"sort-strings-by-length\". Write a Python program to sort a list of strings based on the length of each string. Instructions: Create a new Python file named sort_strings_by_length.py. Write the program to take a list of strings as input and sort it based on the length of each string, from shortest to longest. After writing the code, initialize a Git repository in the directory, add the file, commit the changes, and push it to a new repository on GitHub. Finally, merge the branch into the main branch."
   ]
  },
  {
   "cell_type": "code",
   "execution_count": 1,
   "metadata": {},
   "outputs": [
    {
     "name": "stdout",
     "output_type": "stream",
     "text": [
      "['a', 'ab', 'abc', 'abcd', 'abcde', 'abcdef']\n"
     ]
    }
   ],
   "source": [
    "def sort_strings_by_length(input): \n",
    "    return sorted(input, key=len)\n",
    "\n",
    "strings = [\"a\", \"ab\", \"abc\", \"abcd\", \"abcde\", \"abcdef\"]\n",
    "sorted_strings = sort_strings_by_length(strings)\n",
    "print(sorted_strings)"
   ]
  },
  {
   "cell_type": "code",
   "execution_count": null,
   "metadata": {},
   "outputs": [],
   "source": []
  }
 ],
 "metadata": {
  "kernelspec": {
   "display_name": "Python 3 (ipykernel)",
   "language": "python",
   "name": "python3"
  },
  "language_info": {
   "codemirror_mode": {
    "name": "ipython",
    "version": 3
   },
   "file_extension": ".py",
   "mimetype": "text/x-python",
   "name": "python",
   "nbconvert_exporter": "python",
   "pygments_lexer": "ipython3",
   "version": "3.11.7"
  }
 },
 "nbformat": 4,
 "nbformat_minor": 4
}
